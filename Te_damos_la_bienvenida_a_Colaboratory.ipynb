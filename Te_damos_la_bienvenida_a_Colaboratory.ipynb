{
  "cells": [
    {
      "cell_type": "markdown",
      "metadata": {
        "id": "view-in-github",
        "colab_type": "text"
      },
      "source": [
        "<a href=\"https://colab.research.google.com/github/Diego20051219/Actividad_Matrices_537610/blob/main/Te_damos_la_bienvenida_a_Colaboratory.ipynb\" target=\"_parent\"><img src=\"https://colab.research.google.com/assets/colab-badge.svg\" alt=\"Open In Colab\"/></a>"
      ]
    },
    {
      "cell_type": "code",
      "source": [
        "#Algoritmo_Valor_Secret\n",
        "\n",
        "#Start\n",
        "\n",
        " # Definir symbols , board , secret_row , secret_col , secret_evalue , guess , size , play_again como Variables\n",
        "  #Definir Random , Time , Clear_Output como Liberias\n",
        "\n",
        "  #Def main():\n",
        "   #  Display (\"Bienvenido al juego del valor secreto.\") // mensaje de inicio\n",
        "    # Display (\"El juego consiste en memorizar el tablero por unos segundos y luego adivinar el valor oculto.\") // mensajes de inicio\n",
        "    #While true: // ciclo mientras veradero\n",
        "    #   try:\n",
        "   #      size = int(input(\"Ingresa el tamaño del tablero (solo un número):\")) // se le agrega valor a size\n",
        "    #     if play_again <> s: // si no se cumple se acaba el programa\n",
        "     #        break\n",
        "    #   except evalueError:\n",
        "    #     Display \"Por favor, ingresa un número válido para el tamaño del tablero.\" // si ocurre algun error mostrara este mensaje\n",
        " # if _name_ = \"_main_\" :\n",
        "  # main()\n",
        "\n",
        "  # Def generate_board(size):\n",
        "   #   symbols = ['$', '@', '#', 'a', '2', '?', 'g', '+', '5'] // lista de simbolos\n",
        "   #   board = random.choice([random.randint(1,10)] + symbols)for i in range(size)] for f in range(size)] // donde se genera la board filas y columnas\n",
        "    #  return board // se retorna\n",
        "\n",
        " # Def show_board(board): // imprime las filas de la board\n",
        "    #  for row in board: // ciclo for\n",
        "    #   Display (\" \".join(str(x) if isinstance(x, int) else x for x in row)) // se ejeuctan la cadenas de enteros y que se impriman bien las filas y el join para separlos\n",
        "\n",
        " # Def hide_value(board): // esta funcion escoge un valor en la board y lo oculta para que el usuario la descubra\n",
        " #   secret_row = random.randint(0, len(board) - 1) // se escoge un valor de la fila\n",
        "  #  secret_col = random.randint(0, len(board[0]) - 1) // se escoge un  valor de la columna\n",
        "  #  secret_value = board[secret_row][secret_col] // y se ajunta en una variable\n",
        "  #  board[secret_row][secret_col] = '*' // se remplaza por un alterizco\n",
        "  #  return secret_value, board // y se retorna\n",
        "\n",
        "# Def play_game(size): // donde se ejucutan todas definiciones\n",
        " #   board = generate_board(size)\n",
        "  #  show_board(board)  // Muestra el tablero completo\n",
        "  #  Display (\"Memoriza el tablero por unos segundos...\")\n",
        "  #  time.sleep(size)  // Se memoriza el tablero para saber cual se oculta el tiempo dependera del valor size\n",
        "  #  clear_output(wait=True)    // Limpia la salida\n",
        " #   secret_value, hidden_board = hide_value(board)\n",
        "   # show_board(hidden_board)     // Muestra el tablero con el valor oculto\n",
        "  #  guess = input(\"Adivina el valor secreto: \")\n",
        "  #  if str(guess) == str(secret_value):    // se evalua si lo que ingreso el usuario es cierto\n",
        "  #      Display (\"¡Correcto!\")    // si es verdadero\n",
        "  #  else:\n",
        "  #      Display (\"Incorrecto, el valor era:\" secret_value) // si es falso\n",
        "\n",
        "#End"
      ],
      "metadata": {
        "id": "rbTh72DDwiIe"
      },
      "execution_count": null,
      "outputs": []
    },
    {
      "cell_type": "code",
      "source": [
        "import random\n",
        "import time\n",
        "from IPython.display import clear_output\n",
        "\n",
        "def generate_board(size):\n",
        "    symbols = ['$', '@', '#', 'a', '2', '?', 'g', '+', '5']\n",
        "    board = [[random.choice([random.randint(1, 10)] + symbols) for i in range(size)] for f in range(size)]\n",
        "    return board\n",
        "\n",
        "def show_board(board):\n",
        "    for row in board:\n",
        "        print(' '.join(str(x) if isinstance(x, int) else x for x in row))\n",
        "\n",
        "def hide_value(board):\n",
        "    secret_row = random.randint(0, len(board) - 1)\n",
        "    secret_col = random.randint(0, len(board[0]) - 1)\n",
        "    secret_value = board[secret_row][secret_col]\n",
        "    board[secret_row][secret_col] = '*'\n",
        "    return secret_value, board\n",
        "\n",
        "def play_game(size):\n",
        "    board = generate_board(size)\n",
        "    show_board(board)  # Muestra el tablero completo\n",
        "    print(\"Se ocultara un valor del tablero\")\n",
        "    print(\"Memoriza el tablero por unos segundos...\")\n",
        "    time.sleep(size)  # Espera size segundos\n",
        "    clear_output(wait=True)  # Limpia la salida\n",
        "    secret_value, hidden_board = hide_value(board)\n",
        "    show_board(hidden_board)  # Muestra el tablero con el valor oculto\n",
        "    guess = input(\"Adivina el valor secreto: \")\n",
        "    if str(guess).lower() == str(secret_value).lower():\n",
        "        print(\"¡Correcto!\")\n",
        "    else:\n",
        "        print(\"Incorrecto, el valor era:\", secret_value)\n",
        "\n",
        "def main():\n",
        "    print(\"Bienvenido al juego del valor secreto.\")\n",
        "    print(\"El juego consiste en memorizar el tablero por unos segundos y luego adivinar el valor oculto.\")\n",
        "    while True:\n",
        "        try:\n",
        "            size = int(input(\"Ingresa el tamaño del tablero (solo un número): \"))\n",
        "            play_game(size)\n",
        "            play_again = input(\"¿Quieres jugar de nuevo? (s/n): \").lower()\n",
        "            if play_again != 's':\n",
        "                break\n",
        "        except ValueError:\n",
        "            print(\"Por favor, ingresa un número válido para el tamaño del tablero.\")\n",
        "\n",
        "if __name__ == \"__main__\":\n",
        "    main()\n"
      ],
      "metadata": {
        "id": "bx8JsrTTfzaw"
      },
      "execution_count": null,
      "outputs": []
    },
    {
      "cell_type": "code",
      "source": [
        "\n",
        "import numpy as np\n",
        "edades = [18, 17, 23, 43, 54, 12, 23]\n",
        "edades_array = np.array(edades)\n",
        "print(edades)\n",
        "print(edades_array)\n",
        "print(edades_array.dtype)\n",
        "print(edades_array.shape)\n",
        "\n",
        "\n",
        "años_nacimiento = []\n",
        "for edad in edades:\n",
        "  años_nacimiento.append(2024 - edad)\n",
        "print(años_nacimiento)\n",
        "años_nacimiento_array = 2024 - edades_array\n",
        "print(años_nacimiento_array)\n",
        "\n",
        "m = np.array([[1, 2, 3, 0]\n",
        "              [4, 5, 6, 0]\n",
        "              [7, 8, 9 ,0]\n",
        "              [0, 0, 0, 0]])\n",
        "print(m)\n",
        "print(m.shape)\n",
        "print(:, 1)\n",
        "print(1 , :)\n"
      ],
      "metadata": {
        "id": "sljQPV1SBlJO"
      },
      "execution_count": null,
      "outputs": []
    },
    {
      "cell_type": "code",
      "source": [
        "edades = [18, 17, 23, 43, 54, 12, 23]\n",
        "edades_array = np.array(edades)\n",
        "edad_mayor = edades_array <= 18\n",
        "edades_pares = edades_array[edades_array % 2 == 0 ]\n",
        "print(edades_pares)\n",
        "print(edades_array)"
      ],
      "metadata": {
        "id": "ZnlzndHEFPky"
      },
      "execution_count": null,
      "outputs": []
    },
    {
      "cell_type": "code",
      "source": [
        "from google.colab import drive\n",
        "drive.mount('/content/drive')"
      ],
      "metadata": {
        "id": "Yg2L5Q3BLv2O"
      },
      "execution_count": null,
      "outputs": []
    },
    {
      "cell_type": "code",
      "source": [
        "recipes = np.genfromtxt(\"/content/sample.data/recipes-1.csv\", delimiter = \",\" )\n",
        "print(recipes)"
      ],
      "metadata": {
        "id": "JsoDGNTAL73-"
      },
      "execution_count": null,
      "outputs": []
    },
    {
      "cell_type": "code",
      "source": [
        "a = np.arange(0,10)\n",
        "b = np.arange(10,20)\n",
        "c = np.arange(20,30)\n",
        "matrix_a = np.column_stack([a, b, c])\n",
        "matrix_b = np.row_stack([a, b, c])\n",
        "print(matrix_a)\n",
        "print(matrix_b)\n",
        "print(f\"la suma de la matrix es: {matrix_a.sum()}\")\n"
      ],
      "metadata": {
        "id": "Plu-W8Y3RsOq"
      },
      "execution_count": null,
      "outputs": []
    },
    {
      "cell_type": "code",
      "source": [
        "import numpy as np\n",
        "a = np.array([1,2])\n",
        "print(a)\n",
        "\n",
        "\n",
        "\n",
        "\n",
        "n_10 = np.arange(10)\n",
        "print(n_10)\n",
        "n_5_20_3 = np.arange(5,20,3)\n",
        "print(n_5_20_3)\n",
        "t = np.linspace(0, 2*np.pi, num=10 )\n",
        "print(t)\n",
        "\n",
        "\n",
        "vector_9 =  np.arange(9)\n",
        "print(vector_9)\n",
        "\n",
        "\n",
        "\n",
        "n = np.arange(10,20)\n",
        "print(n)\n",
        "print(n.sum())"
      ],
      "metadata": {
        "id": "0mUTKiQOOpg-"
      },
      "execution_count": null,
      "outputs": []
    },
    {
      "cell_type": "code",
      "source": [
        "import random\n",
        "import numpy as np\n",
        "\n",
        "rng = np.random.default_rng()\n",
        "rand_1 = rng.integers(-10, 10, size=(3, 3))\n",
        "rand_2 = rng.standard_normal(size=(3, 3))\n",
        "print(rand_1)\n",
        "print(rand_2)"
      ],
      "metadata": {
        "id": "1soAGaA8Tae_",
        "outputId": "3d3f7ae6-566e-4b3c-dd85-1a2f9a503349",
        "colab": {
          "base_uri": "https://localhost:8080/"
        }
      },
      "execution_count": 40,
      "outputs": [
        {
          "output_type": "stream",
          "name": "stdout",
          "text": [
            "[[ 1  0 -4]\n",
            " [ 1  5  8]\n",
            " [ 5  6 -1]]\n",
            "[[ 0.32039697  0.2698451   0.28815332]\n",
            " [ 0.42612207 -0.44033936  0.48915172]\n",
            " [-1.18128811  1.18407959 -0.75762008]]\n"
          ]
        }
      ]
    }
  ],
  "metadata": {
    "colab": {
      "name": "Te damos la bienvenida a Colaboratory",
      "provenance": [],
      "include_colab_link": true
    },
    "kernelspec": {
      "display_name": "Python 3",
      "name": "python3"
    }
  },
  "nbformat": 4,
  "nbformat_minor": 0
}