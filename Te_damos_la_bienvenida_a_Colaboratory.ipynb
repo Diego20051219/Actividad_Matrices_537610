{
  "cells": [
    {
      "cell_type": "markdown",
      "metadata": {
        "id": "view-in-github",
        "colab_type": "text"
      },
      "source": [
        "<a href=\"https://colab.research.google.com/github/Diego20051219/Actividad_Matrices_537610/blob/main/Te_damos_la_bienvenida_a_Colaboratory.ipynb\" target=\"_parent\"><img src=\"https://colab.research.google.com/assets/colab-badge.svg\" alt=\"Open In Colab\"/></a>"
      ]
    },
    {
      "cell_type": "code",
      "source": [
        "#Algoritmo_Valor_Secret\n",
        "\n",
        "#Start\n",
        "\n",
        " # Definir symbols , board , secret_row , secret_col , secret_evalue , guess , size , play_again como Variables\n",
        "  #Definir Random , Time , Clear_Output como Liberias\n",
        "\n",
        "  #Def main():\n",
        "   #  Display (\"Bienvenido al juego del valor secreto.\") // mensaje de inicio\n",
        "    # Display (\"El juego consiste en memorizar el tablero por unos segundos y luego adivinar el valor oculto.\") // mensajes de inicio\n",
        "    #While true: // ciclo mientras veradero\n",
        "    #   try:\n",
        "   #      size = int(input(\"Ingresa el tamaño del tablero (solo un número):\")) // se le agrega valor a size\n",
        "    #     if play_again <> s: // si no se cumple se acaba el programa\n",
        "     #        break\n",
        "    #   except evalueError:\n",
        "    #     Display \"Por favor, ingresa un número válido para el tamaño del tablero.\" // si ocurre algun error mostrara este mensaje\n",
        " # if _name_ = \"_main_\" :\n",
        "  # main()\n",
        "\n",
        "  # Def generate_board(size):\n",
        "   #   symbols = ['$', '@', '#', 'a', '2', '?', 'g', '+', '5'] // lista de simbolos\n",
        "   #   board = random.choice([random.randint(1,10)] + symbols)for i in range(size)] for f in range(size)] // donde se genera la board filas y columnas\n",
        "    #  return board // se retorna\n",
        "\n",
        " # Def show_board(board): // imprime las filas de la board\n",
        "    #  for row in board: // ciclo for\n",
        "    #   Display (\" \".join(str(x) if isinstance(x, int) else x for x in row)) // se ejeuctan la cadenas de enteros y que se impriman bien las filas y el join para separlos\n",
        "\n",
        " # Def hide_value(board): // esta funcion escoge un valor en la board y lo oculta para que el usuario la descubra\n",
        " #   secret_row = random.randint(0, len(board) - 1) // se escoge un valor de la fila\n",
        "  #  secret_col = random.randint(0, len(board[0]) - 1) // se escoge un  valor de la columna\n",
        "  #  secret_value = board[secret_row][secret_col] // y se ajunta en una variable\n",
        "  #  board[secret_row][secret_col] = '*' // se remplaza por un alterizco\n",
        "  #  return secret_value, board // y se retorna\n",
        "\n",
        "# Def play_game(size): // donde se ejucutan todas definiciones\n",
        " #   board = generate_board(size)\n",
        "  #  show_board(board)  // Muestra el tablero completo\n",
        "  #  Display (\"Memoriza el tablero por unos segundos...\")\n",
        "  #  time.sleep(size)  // Se memoriza el tablero para saber cual se oculta el tiempo dependera del valor size\n",
        "  #  clear_output(wait=True)    // Limpia la salida\n",
        " #   secret_value, hidden_board = hide_value(board)\n",
        "   # show_board(hidden_board)     // Muestra el tablero con el valor oculto\n",
        "  #  guess = input(\"Adivina el valor secreto: \")\n",
        "  #  if str(guess) == str(secret_value):    // se evalua si lo que ingreso el usuario es cierto\n",
        "  #      Display (\"¡Correcto!\")    // si es verdadero\n",
        "  #  else:\n",
        "  #      Display (\"Incorrecto, el valor era:\" secret_value) // si es falso\n",
        "\n",
        "#End"
      ],
      "metadata": {
        "id": "rbTh72DDwiIe"
      },
      "execution_count": null,
      "outputs": []
    },
    {
      "cell_type": "code",
      "source": [
        "import random\n",
        "import time\n",
        "from IPython.display import clear_output\n",
        "\n",
        "def generate_board(size):\n",
        "    symbols = ['$', '@', '#', 'a', '2', '?', 'g', '+', '5']\n",
        "    board = [[random.choice([random.randint(1, 10)] + symbols) for i in range(size)] for f in range(size)]\n",
        "    return board\n",
        "\n",
        "def show_board(board):\n",
        "    for row in board:\n",
        "        print(' '.join(str(x) if isinstance(x, int) else x for x in row))\n",
        "\n",
        "def hide_value(board):\n",
        "    secret_row = random.randint(0, len(board) - 1)\n",
        "    secret_col = random.randint(0, len(board[0]) - 1)\n",
        "    secret_value = board[secret_row][secret_col]\n",
        "    board[secret_row][secret_col] = '*'\n",
        "    return secret_value, board\n",
        "\n",
        "def play_game(size):\n",
        "    board = generate_board(size)\n",
        "    show_board(board)  # Muestra el tablero completo\n",
        "    print(\"Memoriza el tablero por unos segundos...\")\n",
        "    time.sleep(size)  # Espera size segundos\n",
        "    clear_output(wait=True)  # Limpia la salida\n",
        "    secret_value, hidden_board = hide_value(board)\n",
        "    show_board(hidden_board)  # Muestra el tablero con el valor oculto\n",
        "    guess = input(\"Adivina el valor secreto: \")\n",
        "    if str(guess).lower() == str(secret_value).lower():\n",
        "        print(\"¡Correcto!\")\n",
        "    else:\n",
        "        print(\"Incorrecto, el valor era:\", secret_value)\n",
        "\n",
        "def main():\n",
        "    print(\"Bienvenido al juego del valor secreto.\")\n",
        "    print(\"El juego consiste en memorizar el tablero por unos segundos y luego adivinar el valor oculto.\")\n",
        "    while True:\n",
        "        try:\n",
        "            size = int(input(\"Ingresa el tamaño del tablero (solo un número): \"))\n",
        "            play_game(size)\n",
        "            play_again = input(\"¿Quieres jugar de nuevo? (s/n): \").lower()\n",
        "            if play_again != 's':\n",
        "                break\n",
        "        except ValueError:\n",
        "            print(\"Por favor, ingresa un número válido para el tamaño del tablero.\")\n",
        "\n",
        "if __name__ == \"__main__\":\n",
        "    main()\n"
      ],
      "metadata": {
        "id": "bx8JsrTTfzaw"
      },
      "execution_count": null,
      "outputs": []
    }
  ],
  "metadata": {
    "colab": {
      "name": "Te damos la bienvenida a Colaboratory",
      "toc_visible": true,
      "provenance": [],
      "include_colab_link": true
    },
    "kernelspec": {
      "display_name": "Python 3",
      "name": "python3"
    }
  },
  "nbformat": 4,
  "nbformat_minor": 0
}